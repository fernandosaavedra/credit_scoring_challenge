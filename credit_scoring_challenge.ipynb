{
 "cells": [
  {
   "cell_type": "markdown",
   "metadata": {},
   "source": [
    "![](https://cache-blog.credit.com/wp-content/uploads/2019/03/young-beautiful-asian-woman-using-smart-phone-and-credit-card-for-picture-id1035462566.jpg)\n",
    "\n",
    "# Desafío Machine Learning\n",
    "\n",
    "Usted trabaja para una conocida aseguradora nacional al cual un Banco internacional le ha solicitado un presupuesto. Para ello su equipo debe entregar el precio base estimado de los seguros al crédito, el cual se ocupa como parámetro posteriormente para tarificar los distinto productos. El economista con el cual usted trabajada ha diseñado una fórmula para calcular este precio: \n",
    " \n",
    "Precio base del seguro por persona = (3*(1+0.03+p))UF \n",
    " \n",
    "Donde p corresponde al factor de penalización por riesgo y su fórmula es: \n",
    " \n",
    "p=(0.1* score de riesgo) \n",
    " \n",
    "Donde el score de riesgo debe ir entre 0 y 1, y debe reflejar qué tan probable es que un cliente caiga en mora (en general y con los datos de hoy, no para un momento particular)  Se le ha encargado calcular este score a partir de los datos que han sido entregados por el Banco y presentar en una reunión de 15 minutos sus resultados a la gerencia. (esta será realizada por Skype y “la gerencia” será el reclutador técnico) \n",
    " \n",
    "Es importante notar que debe dejar sus resultados documentados y publicados en un repositorio público, el cual debe contener al menos:\n",
    "\n",
    "- Detalle de lo que se hizo, sus resultados y siguientes pasos a modo de resumen (abstract en el Readme).\n",
    "- Detalle de los procedimientos ejecutados (puede ser en un documento o bien escrito con Markdown o similar en un notebook). \n",
    "- La presentación que realizará a la gerencia (puede ser un power point, Keynote, PDF o un ensayo (https://www.inc.com/carmine-gallo/jeff-bezos-bans-powerpoint-inmeetings-his-replacement-is-brilliant.html ), el formato lo escoges tú, pero que esté lo que entregarás gerencia).\n",
    " \n",
    "Consideraciones entregadas por el negocio: \n",
    " \n",
    "- Es 5 veces peor clasificar un cliente como bueno cuando es malo, que malo cuando es bueno.\n",
    "- Las tarifas telefónicas son altas en el país de donde provienen los clientes de este banco. \n",
    "- Hay una alta tasa de migración en el país de donde provienen los clientes de este banco.\n",
    "\n",
    "\n",
    "### Diccionario de variables \n",
    " \n",
    "__Atributo 1: Estado de cuenta corriente existente (en cantidad de dinero y en moneda local)__ \n",
    "\n",
    "- __A11:__ valor < 0.\n",
    "- __A12:__ entre 0 y 200.\n",
    "- __A13:__ Sobre 200 (asignación salarial que da el estado por al menos un año). \n",
    "- __A14:__ No tiene cuenta corriente. \n",
    " \n",
    "__Atributo 2: Duración en meses__\n",
    " \n",
    "__Atributo 3: Historia crediticia__\n",
    " \n",
    "- __A30:__ No ha tomado créditos / todos los créditos han sido devueltos debidamente \n",
    "- __A31:__ Todos los créditos de este banco han sido pagados debidamente \n",
    "- __A32:__ Los créditos existentes han sido pagados hasta ahora \n",
    "- __A33:__ Ha habido retrasos en los créditos pagados en el pasado \n",
    "- __A34:__ Cuenta crítica / otros créditos existentes en (no en este banco) \n",
    " \n",
    "__Atributo 4: Propósito del crédito__\n",
    " \n",
    "- __A40:__ Auto nuevo \n",
    "- __A41:__ Auto usado \n",
    "- __A42:__ Mueble /equipamiento \n",
    "- __A43:__ Radio o televisión\n",
    "- __A44:__ Artefactos domésticos \n",
    "- __A45:__ Reparaciones \n",
    "- __A46:__ Educación \n",
    "- __A47:__ Vacaciones \n",
    "- __A48:__ Re-entrenamiento (eduación) \n",
    "- __A49:__ Negocios A50: Otros \n",
    " \n",
    "__Atributo 5: Monto del crédito (en moneda local)__\n",
    " \n",
    "__Atributo 6: Ahorros en la cuenta__\n",
    " \n",
    "- __A61:__ ahorros < 100 DM \n",
    "- __A62:__ 100 <= ahorros < 500 \n",
    "- __A63:__ 500 <= ahorros < 1000\n",
    "- __A64:__ ahorros >= 1000 \n",
    "- __A65:__ desconocido o sin ahorros \n",
    " \n",
    "__Atributo 7: Tiempo en el empleo actual__\n",
    "- __A71:__ Desempleado \n",
    "- __A72:__ t < 1 año \n",
    "- __A73:__ 1 <= t < 4 años\n",
    "- __A74:__ 4 <= t < 7 años \n",
    "- __A75:__ t >= 7 years \n",
    " \n",
    "__Atributo 8: Tasa a plazo en porcentaje de la renta disponible__\n",
    " \n",
    "__Atributo 9: Estatus y sexo__\n",
    " \n",
    "- __A91:__ Hombre y divorciado o separado\n",
    "- __A92:__ Mujer y divorciado o separado o casado \n",
    "- __A93:__ Hombre y soltero A94: Hombre y casado o viudo \n",
    "- __A95:__ Mujer y soltera\n",
    " \n",
    "__Atributo 10: Otros deudores y garantes__\n",
    " \n",
    "- __A101:__ Ninguno\n",
    "- __A102:__ Tiene co-deudor \n",
    "- __A103:__ Tiene aval\n",
    " \n",
    "__Atributo 11: Tiempo desde el cual tiene residencia__\n",
    " \n",
    "__Atributo 12: Posesiones a su nombre__ \n",
    "\n",
    "- __A121:__ Bien raíz \n",
    "- __A122:__ Si no es A121 o está construyendo una cuenta de ahorro social o seguro de vida \n",
    "- __A123:__ Si no es A121 o A122 y tiene auto u otro no cuantificado en el atributo 6 \n",
    "- __A124:__ Desconocido o sin propiedad \n",
    " \n",
    "__Atributo 13: Edad en años__\n",
    " \n",
    "__Atributo 14: Otros pagos pendientes en cuotas__\n",
    " \n",
    "- __A141:__ Banco \n",
    "- __A142:__ Tiendas del comercio en general \n",
    "- __A143:__ Ninguno \n",
    " \n",
    "__Atributo 15: Forma en la que vive__\n",
    " \n",
    "- __A151:__ Arriendo \n",
    "- __A152:__ Dueño \n",
    "- __A153:__ Gratis \n",
    " \n",
    "__Atributo 16: Número de créditos existentes en este banco actualmente__\n",
    " \n",
    "__Atributo 17: Tipo de trabajo__\n",
    " \n",
    "- __A171:__ Desempleado o no calificado y no residente \n",
    "- __A172:__ No calificado y residente \n",
    "- __A173:__ Calificado u oficio \n",
    "- __A174:__ Gestión / trabajo por cuenta propia / empleado / funcionario altamente calificado \n",
    "  \n",
    "__Atributo 18: Número de personas por las cuales es responsable de dar mantenimiento (legalmente)__\n",
    " \n",
    "__Atributo 19: Si tiene teléfono__ \n",
    " \n",
    "- __A191:__ Ninguno \n",
    "- __A192:__ Si, registrado bajo el nombre del cliente \n",
    " \n",
    "__Atributo 20: Si es un trabajador extranjero__\n",
    " \n",
    "- __A201:__ Si \n",
    "- __A202:__ No \n",
    " \n",
    "__Atributo 21: Clasificación actual__\n",
    "- __1:__ Bueno \n",
    "- __2:__ Malo"
   ]
  },
  {
   "cell_type": "markdown",
   "metadata": {},
   "source": [
    "## Desarrollo de la Solución\n",
    "### Parte 1: Carga y descripción de datos"
   ]
  },
  {
   "cell_type": "code",
   "execution_count": 56,
   "metadata": {},
   "outputs": [],
   "source": [
    "import pandas as pd\n",
    "import numpy as np \n",
    "import matplotlib.pyplot as plt\n",
    "import seaborn as sns"
   ]
  },
  {
   "cell_type": "code",
   "execution_count": 57,
   "metadata": {},
   "outputs": [
    {
     "data": {
      "text/html": [
       "<div>\n",
       "<style scoped>\n",
       "    .dataframe tbody tr th:only-of-type {\n",
       "        vertical-align: middle;\n",
       "    }\n",
       "\n",
       "    .dataframe tbody tr th {\n",
       "        vertical-align: top;\n",
       "    }\n",
       "\n",
       "    .dataframe thead th {\n",
       "        text-align: right;\n",
       "    }\n",
       "</style>\n",
       "<table border=\"1\" class=\"dataframe\">\n",
       "  <thead>\n",
       "    <tr style=\"text-align: right;\">\n",
       "      <th></th>\n",
       "      <th>0</th>\n",
       "      <th>1</th>\n",
       "      <th>2</th>\n",
       "      <th>3</th>\n",
       "      <th>4</th>\n",
       "      <th>5</th>\n",
       "      <th>6</th>\n",
       "      <th>7</th>\n",
       "      <th>8</th>\n",
       "      <th>9</th>\n",
       "      <th>...</th>\n",
       "      <th>11</th>\n",
       "      <th>12</th>\n",
       "      <th>13</th>\n",
       "      <th>14</th>\n",
       "      <th>15</th>\n",
       "      <th>16</th>\n",
       "      <th>17</th>\n",
       "      <th>18</th>\n",
       "      <th>19</th>\n",
       "      <th>20</th>\n",
       "    </tr>\n",
       "    <tr>\n",
       "      <th>row_id</th>\n",
       "      <th></th>\n",
       "      <th></th>\n",
       "      <th></th>\n",
       "      <th></th>\n",
       "      <th></th>\n",
       "      <th></th>\n",
       "      <th></th>\n",
       "      <th></th>\n",
       "      <th></th>\n",
       "      <th></th>\n",
       "      <th></th>\n",
       "      <th></th>\n",
       "      <th></th>\n",
       "      <th></th>\n",
       "      <th></th>\n",
       "      <th></th>\n",
       "      <th></th>\n",
       "      <th></th>\n",
       "      <th></th>\n",
       "      <th></th>\n",
       "      <th></th>\n",
       "    </tr>\n",
       "  </thead>\n",
       "  <tbody>\n",
       "    <tr>\n",
       "      <th>320</th>\n",
       "      <td>A12</td>\n",
       "      <td>30</td>\n",
       "      <td>A34</td>\n",
       "      <td>A40</td>\n",
       "      <td>4249</td>\n",
       "      <td>A61</td>\n",
       "      <td>A71</td>\n",
       "      <td>4</td>\n",
       "      <td>A94</td>\n",
       "      <td>A101</td>\n",
       "      <td>...</td>\n",
       "      <td>A123</td>\n",
       "      <td>28</td>\n",
       "      <td>A143</td>\n",
       "      <td>A152</td>\n",
       "      <td>2</td>\n",
       "      <td>A174</td>\n",
       "      <td>1</td>\n",
       "      <td>A191</td>\n",
       "      <td>A201</td>\n",
       "      <td>2</td>\n",
       "    </tr>\n",
       "    <tr>\n",
       "      <th>211</th>\n",
       "      <td>A14</td>\n",
       "      <td>36</td>\n",
       "      <td>A32</td>\n",
       "      <td>A43</td>\n",
       "      <td>3835</td>\n",
       "      <td>A65</td>\n",
       "      <td>A75</td>\n",
       "      <td>2</td>\n",
       "      <td>A92</td>\n",
       "      <td>A101</td>\n",
       "      <td>...</td>\n",
       "      <td>A121</td>\n",
       "      <td>45</td>\n",
       "      <td>A143</td>\n",
       "      <td>A152</td>\n",
       "      <td>1</td>\n",
       "      <td>A172</td>\n",
       "      <td>1</td>\n",
       "      <td>A192</td>\n",
       "      <td>A201</td>\n",
       "      <td>1</td>\n",
       "    </tr>\n",
       "    <tr>\n",
       "      <th>23</th>\n",
       "      <td>A12</td>\n",
       "      <td>12</td>\n",
       "      <td>A34</td>\n",
       "      <td>A41</td>\n",
       "      <td>1804</td>\n",
       "      <td>A62</td>\n",
       "      <td>A72</td>\n",
       "      <td>3</td>\n",
       "      <td>A93</td>\n",
       "      <td>A101</td>\n",
       "      <td>...</td>\n",
       "      <td>A122</td>\n",
       "      <td>44</td>\n",
       "      <td>A143</td>\n",
       "      <td>A152</td>\n",
       "      <td>1</td>\n",
       "      <td>A173</td>\n",
       "      <td>1</td>\n",
       "      <td>A191</td>\n",
       "      <td>A201</td>\n",
       "      <td>1</td>\n",
       "    </tr>\n",
       "    <tr>\n",
       "      <th>439</th>\n",
       "      <td>A13</td>\n",
       "      <td>12</td>\n",
       "      <td>A31</td>\n",
       "      <td>A49</td>\n",
       "      <td>609</td>\n",
       "      <td>A61</td>\n",
       "      <td>A72</td>\n",
       "      <td>4</td>\n",
       "      <td>A92</td>\n",
       "      <td>A101</td>\n",
       "      <td>...</td>\n",
       "      <td>A121</td>\n",
       "      <td>26</td>\n",
       "      <td>A143</td>\n",
       "      <td>A152</td>\n",
       "      <td>1</td>\n",
       "      <td>A171</td>\n",
       "      <td>1</td>\n",
       "      <td>A191</td>\n",
       "      <td>A201</td>\n",
       "      <td>2</td>\n",
       "    </tr>\n",
       "    <tr>\n",
       "      <th>237</th>\n",
       "      <td>A12</td>\n",
       "      <td>21</td>\n",
       "      <td>A32</td>\n",
       "      <td>A49</td>\n",
       "      <td>2767</td>\n",
       "      <td>A62</td>\n",
       "      <td>A75</td>\n",
       "      <td>4</td>\n",
       "      <td>A91</td>\n",
       "      <td>A101</td>\n",
       "      <td>...</td>\n",
       "      <td>A123</td>\n",
       "      <td>61</td>\n",
       "      <td>A141</td>\n",
       "      <td>A151</td>\n",
       "      <td>2</td>\n",
       "      <td>A172</td>\n",
       "      <td>1</td>\n",
       "      <td>A191</td>\n",
       "      <td>A201</td>\n",
       "      <td>2</td>\n",
       "    </tr>\n",
       "  </tbody>\n",
       "</table>\n",
       "<p>5 rows × 21 columns</p>\n",
       "</div>"
      ],
      "text/plain": [
       "          0   1    2    3     4    5    6  7    8     9 ...    11  12    13  \\\n",
       "row_id                                                  ...                   \n",
       "320     A12  30  A34  A40  4249  A61  A71  4  A94  A101 ...  A123  28  A143   \n",
       "211     A14  36  A32  A43  3835  A65  A75  2  A92  A101 ...  A121  45  A143   \n",
       "23      A12  12  A34  A41  1804  A62  A72  3  A93  A101 ...  A122  44  A143   \n",
       "439     A13  12  A31  A49   609  A61  A72  4  A92  A101 ...  A121  26  A143   \n",
       "237     A12  21  A32  A49  2767  A62  A75  4  A91  A101 ...  A123  61  A141   \n",
       "\n",
       "          14 15    16 17    18    19 20  \n",
       "row_id                                   \n",
       "320     A152  2  A174  1  A191  A201  2  \n",
       "211     A152  1  A172  1  A192  A201  1  \n",
       "23      A152  1  A173  1  A191  A201  1  \n",
       "439     A152  1  A171  1  A191  A201  2  \n",
       "237     A151  2  A172  1  A191  A201  2  \n",
       "\n",
       "[5 rows x 21 columns]"
      ]
     },
     "execution_count": 57,
     "metadata": {},
     "output_type": "execute_result"
    }
   ],
   "source": [
    "data = pd.read_csv('data_desafio_seguros', index_col=0)\n",
    "data.head()"
   ]
  },
  {
   "cell_type": "code",
   "execution_count": 58,
   "metadata": {},
   "outputs": [
    {
     "data": {
      "text/plain": [
       "(900, 21)"
      ]
     },
     "execution_count": 58,
     "metadata": {},
     "output_type": "execute_result"
    }
   ],
   "source": [
    "data.shape"
   ]
  },
  {
   "cell_type": "markdown",
   "metadata": {},
   "source": [
    "Las dimensiones del dataset son de __900 registros y 21 columnas.__"
   ]
  },
  {
   "cell_type": "code",
   "execution_count": 59,
   "metadata": {},
   "outputs": [
    {
     "data": {
      "text/plain": [
       "0     object\n",
       "1      int64\n",
       "2     object\n",
       "3     object\n",
       "4      int64\n",
       "5     object\n",
       "6     object\n",
       "7      int64\n",
       "8     object\n",
       "9     object\n",
       "10     int64\n",
       "11    object\n",
       "12     int64\n",
       "13    object\n",
       "14    object\n",
       "15     int64\n",
       "16    object\n",
       "17     int64\n",
       "18    object\n",
       "19    object\n",
       "20     int64\n",
       "dtype: object"
      ]
     },
     "execution_count": 59,
     "metadata": {},
     "output_type": "execute_result"
    }
   ],
   "source": [
    "data.dtypes"
   ]
  },
  {
   "cell_type": "markdown",
   "metadata": {},
   "source": [
    "__Se pueden apreciar datos del tipo _object_ y del tipo _int64_. Según se puede apreciar en el diccionario de datos, existe una mayoría de atributos categóricos.__"
   ]
  },
  {
   "cell_type": "code",
   "execution_count": 60,
   "metadata": {},
   "outputs": [
    {
     "data": {
      "text/html": [
       "<div>\n",
       "<style scoped>\n",
       "    .dataframe tbody tr th:only-of-type {\n",
       "        vertical-align: middle;\n",
       "    }\n",
       "\n",
       "    .dataframe tbody tr th {\n",
       "        vertical-align: top;\n",
       "    }\n",
       "\n",
       "    .dataframe thead th {\n",
       "        text-align: right;\n",
       "    }\n",
       "</style>\n",
       "<table border=\"1\" class=\"dataframe\">\n",
       "  <thead>\n",
       "    <tr style=\"text-align: right;\">\n",
       "      <th></th>\n",
       "      <th>1</th>\n",
       "      <th>4</th>\n",
       "      <th>7</th>\n",
       "      <th>10</th>\n",
       "      <th>12</th>\n",
       "      <th>15</th>\n",
       "      <th>17</th>\n",
       "      <th>20</th>\n",
       "    </tr>\n",
       "  </thead>\n",
       "  <tbody>\n",
       "    <tr>\n",
       "      <th>count</th>\n",
       "      <td>900.000000</td>\n",
       "      <td>900.000000</td>\n",
       "      <td>900.000000</td>\n",
       "      <td>900.00000</td>\n",
       "      <td>900.000000</td>\n",
       "      <td>900.000000</td>\n",
       "      <td>900.000000</td>\n",
       "      <td>900.000000</td>\n",
       "    </tr>\n",
       "    <tr>\n",
       "      <th>mean</th>\n",
       "      <td>21.093333</td>\n",
       "      <td>3276.157778</td>\n",
       "      <td>2.975556</td>\n",
       "      <td>2.85000</td>\n",
       "      <td>35.567778</td>\n",
       "      <td>1.397778</td>\n",
       "      <td>1.147778</td>\n",
       "      <td>1.297778</td>\n",
       "    </tr>\n",
       "    <tr>\n",
       "      <th>std</th>\n",
       "      <td>12.082133</td>\n",
       "      <td>2777.158770</td>\n",
       "      <td>1.115899</td>\n",
       "      <td>1.09542</td>\n",
       "      <td>11.398967</td>\n",
       "      <td>0.559671</td>\n",
       "      <td>0.355077</td>\n",
       "      <td>0.457536</td>\n",
       "    </tr>\n",
       "    <tr>\n",
       "      <th>min</th>\n",
       "      <td>4.000000</td>\n",
       "      <td>250.000000</td>\n",
       "      <td>1.000000</td>\n",
       "      <td>1.00000</td>\n",
       "      <td>19.000000</td>\n",
       "      <td>1.000000</td>\n",
       "      <td>1.000000</td>\n",
       "      <td>1.000000</td>\n",
       "    </tr>\n",
       "    <tr>\n",
       "      <th>25%</th>\n",
       "      <td>12.000000</td>\n",
       "      <td>1382.000000</td>\n",
       "      <td>2.000000</td>\n",
       "      <td>2.00000</td>\n",
       "      <td>27.000000</td>\n",
       "      <td>1.000000</td>\n",
       "      <td>1.000000</td>\n",
       "      <td>1.000000</td>\n",
       "    </tr>\n",
       "    <tr>\n",
       "      <th>50%</th>\n",
       "      <td>18.000000</td>\n",
       "      <td>2328.000000</td>\n",
       "      <td>3.000000</td>\n",
       "      <td>3.00000</td>\n",
       "      <td>33.000000</td>\n",
       "      <td>1.000000</td>\n",
       "      <td>1.000000</td>\n",
       "      <td>1.000000</td>\n",
       "    </tr>\n",
       "    <tr>\n",
       "      <th>75%</th>\n",
       "      <td>24.000000</td>\n",
       "      <td>3994.000000</td>\n",
       "      <td>4.000000</td>\n",
       "      <td>4.00000</td>\n",
       "      <td>42.000000</td>\n",
       "      <td>2.000000</td>\n",
       "      <td>1.000000</td>\n",
       "      <td>2.000000</td>\n",
       "    </tr>\n",
       "    <tr>\n",
       "      <th>max</th>\n",
       "      <td>72.000000</td>\n",
       "      <td>18424.000000</td>\n",
       "      <td>4.000000</td>\n",
       "      <td>4.00000</td>\n",
       "      <td>75.000000</td>\n",
       "      <td>4.000000</td>\n",
       "      <td>2.000000</td>\n",
       "      <td>2.000000</td>\n",
       "    </tr>\n",
       "  </tbody>\n",
       "</table>\n",
       "</div>"
      ],
      "text/plain": [
       "                1             4           7         10          12  \\\n",
       "count  900.000000    900.000000  900.000000  900.00000  900.000000   \n",
       "mean    21.093333   3276.157778    2.975556    2.85000   35.567778   \n",
       "std     12.082133   2777.158770    1.115899    1.09542   11.398967   \n",
       "min      4.000000    250.000000    1.000000    1.00000   19.000000   \n",
       "25%     12.000000   1382.000000    2.000000    2.00000   27.000000   \n",
       "50%     18.000000   2328.000000    3.000000    3.00000   33.000000   \n",
       "75%     24.000000   3994.000000    4.000000    4.00000   42.000000   \n",
       "max     72.000000  18424.000000    4.000000    4.00000   75.000000   \n",
       "\n",
       "               15          17          20  \n",
       "count  900.000000  900.000000  900.000000  \n",
       "mean     1.397778    1.147778    1.297778  \n",
       "std      0.559671    0.355077    0.457536  \n",
       "min      1.000000    1.000000    1.000000  \n",
       "25%      1.000000    1.000000    1.000000  \n",
       "50%      1.000000    1.000000    1.000000  \n",
       "75%      2.000000    1.000000    2.000000  \n",
       "max      4.000000    2.000000    2.000000  "
      ]
     },
     "execution_count": 60,
     "metadata": {},
     "output_type": "execute_result"
    }
   ],
   "source": [
    "data.describe()"
   ]
  },
  {
   "cell_type": "code",
   "execution_count": 61,
   "metadata": {},
   "outputs": [
    {
     "data": {
      "text/plain": [
       "<matplotlib.axes._subplots.AxesSubplot at 0x1d2c0029a20>"
      ]
     },
     "execution_count": 61,
     "metadata": {},
     "output_type": "execute_result"
    },
    {
     "data": {
      "image/png": "[encoded data removed]",
      "text/plain": [
       "<Figure size 432x288 with 1 Axes>"
      ]
     },
     "metadata": {
      "needs_background": "light"
     },
     "output_type": "display_data"
    }
   ],
   "source": [
    "sns.heatmap(data.isnull(), cbar=False)"
   ]
  },
  {
   "cell_type": "markdown",
   "metadata": {},
   "source": [
    "__No se encontraron datos vacíos o nulos dentro del dataset entregado.__"
   ]
  },
  {
   "cell_type": "markdown",
   "metadata": {},
   "source": [
    "### 1.- Análisis de Variables"
   ]
  },
  {
   "cell_type": "code",
   "execution_count": 62,
   "metadata": {},
   "outputs": [],
   "source": [
    "def bar_chart(var):\n",
    "    arr = data[var].unique()\n",
    "    arr.sort()\n",
    "    values = []\n",
    "    \n",
    "    for a in arr:\n",
    "        condition = data[var] == a\n",
    "        tmp = data[condition]['20'].value_counts()\n",
    "        values.append(tmp)\n",
    "    d = pd.DataFrame(values)\n",
    "    d.index = arr\n",
    "    d.plot(kind='bar', figsize=(15,5), stacked=True)\n",
    "\n",
    "def facet_grid(var, inf_lim=None, sup_lim=None):\n",
    "    facet = sns.FacetGrid(data, hue=\"20\", aspect=5)\n",
    "    facet.map(sns.kdeplot,var,shade= True)\n",
    "    if inf_lim is None:\n",
    "        inf_lim= 0\n",
    "    if sup_lim is None:\n",
    "        sup_lim = data[var].max()\n",
    "    facet.set(xlim=(inf_lim, sup_lim))\n",
    "    facet.add_legend()\n",
    "    plt.show()"
   ]
  },
  {
   "cell_type": "markdown",
   "metadata": {},
   "source": [
    "### 1.1.- Atributo 1: Estado de cuenta corriente existente (en cantidad de dinero y en moneda local) "
   ]
  },
  {
   "cell_type": "code",
   "execution_count": 63,
   "metadata": {},
   "outputs": [
    {
     "data": {
      "image/png": "[encoded data removed]",
      "text/plain": [
       "<Figure size 1080x360 with 1 Axes>"
      ]
     },
     "metadata": {
      "needs_background": "light"
     },
     "output_type": "display_data"
    }
   ],
   "source": [
    "bar_chart('0')"
   ]
  },
  {
   "cell_type": "markdown",
   "metadata": {},
   "source": [
    "Al ver los gráficos, podemos decir que:\n",
    "- Aquellos clientes que tienen una cuenta corriente con ingresos < 0, tienen una tendencia difusa de pago.\n",
    "- No así en los otros grupos (entre 0 y 200, sobre 200 y sin cuenta) que muestran un buen comportamiento de pago.\n",
    "- En este subgrupo, los clientes que no poseen cuenta (A14), tienen una buena tendencia de comportamiento de pago.\n",
    "- Lo mismo con A13, pero con una cantidad de registros mucho menor"
   ]
  },
  {
   "cell_type": "markdown",
   "metadata": {},
   "source": [
    "### 1.2.- Atributo 2: Duración en meses "
   ]
  },
  {
   "cell_type": "code",
   "execution_count": 64,
   "metadata": {},
   "outputs": [
    {
     "name": "stderr",
     "output_type": "stream",
     "text": [
      "C:\\Users\\Daniel\\Anaconda3\\lib\\site-packages\\scipy\\stats\\stats.py:1713: FutureWarning: Using a non-tuple sequence for multidimensional indexing is deprecated; use `arr[tuple(seq)]` instead of `arr[seq]`. In the future this will be interpreted as an array index, `arr[np.array(seq)]`, which will result either in an error or a different result.\n",
      "  return np.add.reduce(sorted[indexer] * weights, axis=axis) / sumval\n"
     ]
    },
    {
     "data": {
      "image/png": "[encoded data removed]",
      "text/plain": [
       "<Figure size 1122.38x216 with 1 Axes>"
      ]
     },
     "metadata": {
      "needs_background": "light"
     },
     "output_type": "display_data"
    }
   ],
   "source": [
    "facet_grid('1')"
   ]
  },
  {
   "cell_type": "markdown",
   "metadata": {},
   "source": [
    "Al ver los gráficos, podemos decir que:\n",
    "- Cuando los créditos sobrepasan los __27 meses__, poseen un mayor riesgo en el comportamiento de pago."
   ]
  },
  {
   "cell_type": "markdown",
   "metadata": {},
   "source": [
    "### 1.3.- Atributo 3: Historia crediticia "
   ]
  },
  {
   "cell_type": "code",
   "execution_count": 65,
   "metadata": {},
   "outputs": [
    {
     "data": {
      "image/png": "[encoded data removed]",
      "text/plain": [
       "<Figure size 1080x360 with 1 Axes>"
      ]
     },
     "metadata": {
      "needs_background": "light"
     },
     "output_type": "display_data"
    }
   ],
   "source": [
    "bar_chart('2')"
   ]
  },
  {
   "cell_type": "markdown",
   "metadata": {},
   "source": [
    "Al ver los gráficos, podemos decir que:\n",
    "- Aquellos clientes tipo A30 poseen un comportamiento un difuso/riesgoso.\n",
    "- Aquellos clientes tipo A31 poseen un comportamiento de pago difuso.\n",
    "- Aquellos clientes tipo A32, A33 y A34 son clientes de muy bajo riesgo "
   ]
  },
  {
   "cell_type": "markdown",
   "metadata": {},
   "source": [
    "### 1.4.- Atributo 4: Propósito del crédito "
   ]
  },
  {
   "cell_type": "code",
   "execution_count": 66,
   "metadata": {},
   "outputs": [
    {
     "data": {
      "image/png": "[encoded data removed]",
      "text/plain": [
       "<Figure size 1080x360 with 1 Axes>"
      ]
     },
     "metadata": {
      "needs_background": "light"
     },
     "output_type": "display_data"
    }
   ],
   "source": [
    "bar_chart('3')"
   ]
  },
  {
   "cell_type": "markdown",
   "metadata": {},
   "source": [
    "Al ver los gráficos, podemos decir que:\n",
    "- Crédito para compra de A41, A42, A43, A46 muestran un bajo nivel de riesgo.\n",
    "- Crédito para compra de A40, A46, A49, muestran un nivel de riesgo un poco más alto.\n"
   ]
  },
  {
   "cell_type": "markdown",
   "metadata": {},
   "source": [
    "### 1.5.- Atributo 5: Monto del crédito (en moneda local)"
   ]
  },
  {
   "cell_type": "code",
   "execution_count": 67,
   "metadata": {},
   "outputs": [
    {
     "name": "stderr",
     "output_type": "stream",
     "text": [
      "C:\\Users\\Daniel\\Anaconda3\\lib\\site-packages\\scipy\\stats\\stats.py:1713: FutureWarning: Using a non-tuple sequence for multidimensional indexing is deprecated; use `arr[tuple(seq)]` instead of `arr[seq]`. In the future this will be interpreted as an array index, `arr[np.array(seq)]`, which will result either in an error or a different result.\n",
      "  return np.add.reduce(sorted[indexer] * weights, axis=axis) / sumval\n"
     ]
    },
    {
     "data": {
      "image/png": "[encoded data removed]",
      "text/plain": [
       "<Figure size 1122.38x216 with 1 Axes>"
      ]
     },
     "metadata": {
      "needs_background": "light"
     },
     "output_type": "display_data"
    }
   ],
   "source": [
    "facet_grid('4')"
   ]
  },
  {
   "cell_type": "markdown",
   "metadata": {},
   "source": [
    "Al ver los gráficos, podemos decir que:\n",
    "- Los créditos de montos bajos, tienden a ser más riesgosos que los créditos de montos más altos."
   ]
  },
  {
   "cell_type": "markdown",
   "metadata": {},
   "source": [
    "### 1.6.- Atributo 6: Ahorros en la cuenta"
   ]
  },
  {
   "cell_type": "code",
   "execution_count": 68,
   "metadata": {},
   "outputs": [
    {
     "data": {
      "image/png": "[encoded data removed]",
      "text/plain": [
       "<Figure size 1080x360 with 1 Axes>"
      ]
     },
     "metadata": {
      "needs_background": "light"
     },
     "output_type": "display_data"
    }
   ],
   "source": [
    "bar_chart('5')"
   ]
  },
  {
   "cell_type": "markdown",
   "metadata": {},
   "source": [
    "Al ver los gráficos, podemos decir que:\n",
    "- Mientras mayor la cantidad de ahorros, el riesgo es menor y los clientes son mejores pagadores."
   ]
  },
  {
   "cell_type": "markdown",
   "metadata": {},
   "source": [
    "### 1.7.- Atributo 7: Tiempo en el empleo actual "
   ]
  },
  {
   "cell_type": "code",
   "execution_count": 69,
   "metadata": {},
   "outputs": [
    {
     "data": {
      "image/png": "[encoded data removed]",
      "text/plain": [
       "<Figure size 1080x360 with 1 Axes>"
      ]
     },
     "metadata": {
      "needs_background": "light"
     },
     "output_type": "display_data"
    }
   ],
   "source": [
    "bar_chart('6')"
   ]
  },
  {
   "cell_type": "markdown",
   "metadata": {},
   "source": [
    "Al ver los gráficos, podemos decir que:\n",
    "- No existe una diferencia significativa entre los intervalos observados."
   ]
  },
  {
   "cell_type": "markdown",
   "metadata": {},
   "source": [
    "### 1.8.- Atributo 8: Tasa a plazo en porcentaje de la renta disponible"
   ]
  },
  {
   "cell_type": "code",
   "execution_count": 70,
   "metadata": {},
   "outputs": [
    {
     "name": "stderr",
     "output_type": "stream",
     "text": [
      "C:\\Users\\Daniel\\Anaconda3\\lib\\site-packages\\scipy\\stats\\stats.py:1713: FutureWarning: Using a non-tuple sequence for multidimensional indexing is deprecated; use `arr[tuple(seq)]` instead of `arr[seq]`. In the future this will be interpreted as an array index, `arr[np.array(seq)]`, which will result either in an error or a different result.\n",
      "  return np.add.reduce(sorted[indexer] * weights, axis=axis) / sumval\n"
     ]
    },
    {
     "data": {
      "image/png": "[encoded data removed]",
      "text/plain": [
       "<Figure size 1122.38x216 with 1 Axes>"
      ]
     },
     "metadata": {
      "needs_background": "light"
     },
     "output_type": "display_data"
    }
   ],
   "source": [
    "facet_grid('7')"
   ]
  },
  {
   "cell_type": "markdown",
   "metadata": {},
   "source": [
    "Al ver los gráficos, podemos decir que:\n",
    "\n",
    "- No existe una diferencia significativa entre los intervalos observados."
   ]
  },
  {
   "cell_type": "markdown",
   "metadata": {},
   "source": [
    "### 1.9.- Atributo 9: Estatus y sexo"
   ]
  },
  {
   "cell_type": "code",
   "execution_count": 71,
   "metadata": {},
   "outputs": [
    {
     "data": {
      "image/png": "[encoded data removed]",
      "text/plain": [
       "<Figure size 1080x360 with 1 Axes>"
      ]
     },
     "metadata": {
      "needs_background": "light"
     },
     "output_type": "display_data"
    }
   ],
   "source": [
    "bar_chart('8')"
   ]
  },
  {
   "cell_type": "markdown",
   "metadata": {},
   "source": [
    "Al ver los gráficos, podemos decir que:\n",
    "\n",
    "- Los hombres separados no poseen un gran comportamiento de pago."
   ]
  },
  {
   "cell_type": "markdown",
   "metadata": {},
   "source": [
    "### 1.10.- Atributo 10: Otros deudores y garantes "
   ]
  },
  {
   "cell_type": "code",
   "execution_count": 72,
   "metadata": {},
   "outputs": [
    {
     "data": {
      "image/png": "[encoded data removed]",
      "text/plain": [
       "<Figure size 1080x360 with 1 Axes>"
      ]
     },
     "metadata": {
      "needs_background": "light"
     },
     "output_type": "display_data"
    }
   ],
   "source": [
    "bar_chart('9')"
   ]
  },
  {
   "cell_type": "markdown",
   "metadata": {},
   "source": [
    "Al ver los gráficos, podemos decir que:\n",
    "\n",
    "- Las personas que acceden a créditos con un co-deudor, tienden a tener un comportamiento de pago difuso."
   ]
  },
  {
   "cell_type": "markdown",
   "metadata": {},
   "source": [
    "### 1.11.- Atributo 11: Tiempo desde el cual tiene residencia "
   ]
  },
  {
   "cell_type": "code",
   "execution_count": 73,
   "metadata": {},
   "outputs": [
    {
     "data": {
      "image/png": "[encoded data removed]",
      "text/plain": [
       "<Figure size 1080x360 with 1 Axes>"
      ]
     },
     "metadata": {
      "needs_background": "light"
     },
     "output_type": "display_data"
    }
   ],
   "source": [
    "bar_chart('10')"
   ]
  },
  {
   "cell_type": "markdown",
   "metadata": {},
   "source": [
    "Al ver los gráficos, podemos decir que:\n",
    "\n",
    "- No existe mayor diferencia en los comportamientos de pago según los años de residencia."
   ]
  },
  {
   "cell_type": "markdown",
   "metadata": {},
   "source": [
    "### 1.12.- Atributo 12: Posesiones a su nombre"
   ]
  },
  {
   "cell_type": "code",
   "execution_count": 74,
   "metadata": {},
   "outputs": [
    {
     "data": {
      "image/png": "[encoded data removed]",
      "text/plain": [
       "<Figure size 1080x360 with 1 Axes>"
      ]
     },
     "metadata": {
      "needs_background": "light"
     },
     "output_type": "display_data"
    }
   ],
   "source": [
    "bar_chart('11')"
   ]
  },
  {
   "cell_type": "markdown",
   "metadata": {},
   "source": [
    "Al ver los gráficos, podemos decir que:\n",
    "\n",
    "- No existe mayor diferencia en los comportamientos de pago las posesiones a nombre de un cliente."
   ]
  },
  {
   "cell_type": "markdown",
   "metadata": {},
   "source": [
    "### 1.13.- Atributo 13: Edad en años"
   ]
  },
  {
   "cell_type": "code",
   "execution_count": 75,
   "metadata": {},
   "outputs": [
    {
     "name": "stderr",
     "output_type": "stream",
     "text": [
      "C:\\Users\\Daniel\\Anaconda3\\lib\\site-packages\\scipy\\stats\\stats.py:1713: FutureWarning: Using a non-tuple sequence for multidimensional indexing is deprecated; use `arr[tuple(seq)]` instead of `arr[seq]`. In the future this will be interpreted as an array index, `arr[np.array(seq)]`, which will result either in an error or a different result.\n",
      "  return np.add.reduce(sorted[indexer] * weights, axis=axis) / sumval\n"
     ]
    },
    {
     "data": {
      "image/png": "[encoded data removed]",
      "text/plain": [
       "<Figure size 1122.38x216 with 1 Axes>"
      ]
     },
     "metadata": {
      "needs_background": "light"
     },
     "output_type": "display_data"
    }
   ],
   "source": [
    "facet_grid('12')"
   ]
  },
  {
   "cell_type": "markdown",
   "metadata": {},
   "source": [
    "Al ver los gráficos, podemos decir que:\n",
    "\n",
    "- Los jovenes de entre 18 y 30 años tienen un comportamiento riesgoso de pago.\n",
    "- Desde los 30 a los 50 años, se tiene un comportamiento estable de pago.\n",
    "- Desde los 50 hacia adelante, es muy difuso."
   ]
  },
  {
   "cell_type": "markdown",
   "metadata": {},
   "source": [
    "### 1.14.- Atributo 14: Otros pagos pendientes en cuotas"
   ]
  },
  {
   "cell_type": "code",
   "execution_count": 76,
   "metadata": {},
   "outputs": [
    {
     "data": {
      "image/png": "[encoded data removed]",
      "text/plain": [
       "<Figure size 1080x360 with 1 Axes>"
      ]
     },
     "metadata": {
      "needs_background": "light"
     },
     "output_type": "display_data"
    }
   ],
   "source": [
    "bar_chart('13')"
   ]
  },
  {
   "cell_type": "markdown",
   "metadata": {},
   "source": [
    "Al ver los gráficos, podemos decir que:\n",
    "\n",
    "- Las personas que tienen un prestamos bancario o en el comercio en curso, poseen mayor nivel de riesgo."
   ]
  },
  {
   "cell_type": "markdown",
   "metadata": {},
   "source": [
    "### 1.15.- Atributo 15: Forma en la que vive"
   ]
  },
  {
   "cell_type": "code",
   "execution_count": 77,
   "metadata": {},
   "outputs": [
    {
     "data": {
      "image/png": "[encoded data removed]",
      "text/plain": [
       "<Figure size 1080x360 with 1 Axes>"
      ]
     },
     "metadata": {
      "needs_background": "light"
     },
     "output_type": "display_data"
    }
   ],
   "source": [
    "bar_chart('14')"
   ]
  },
  {
   "cell_type": "markdown",
   "metadata": {},
   "source": [
    "Al ver los gráficos, podemos decir que:\n",
    "\n",
    "- Las personas que viven en condición de arrendatario o gratis, poseen mayor nivel de riesgo."
   ]
  },
  {
   "cell_type": "markdown",
   "metadata": {},
   "source": [
    "### 1.16.- Atributo 16: Número de créditos existentes en este banco actualmente"
   ]
  },
  {
   "cell_type": "code",
   "execution_count": 78,
   "metadata": {},
   "outputs": [
    {
     "data": {
      "image/png": "[encoded data removed]",
      "text/plain": [
       "<Figure size 1080x360 with 1 Axes>"
      ]
     },
     "metadata": {
      "needs_background": "light"
     },
     "output_type": "display_data"
    }
   ],
   "source": [
    "bar_chart('15')"
   ]
  },
  {
   "cell_type": "markdown",
   "metadata": {},
   "source": [
    "Al ver los gráficos, podemos decir que:\n",
    "\n",
    "- No existe una diferencia muy grande a medida que se van tomando una mayor cantidad de préstamos, sin embargo, no se recomienda dar muchos prestamos a clientes."
   ]
  },
  {
   "cell_type": "markdown",
   "metadata": {},
   "source": [
    "### 1.17.- Atributo 17: Tipo de trabajo"
   ]
  },
  {
   "cell_type": "code",
   "execution_count": 79,
   "metadata": {},
   "outputs": [
    {
     "data": {
      "image/png": "[encoded data removed]",
      "text/plain": [
       "<Figure size 1080x360 with 1 Axes>"
      ]
     },
     "metadata": {
      "needs_background": "light"
     },
     "output_type": "display_data"
    }
   ],
   "source": [
    "bar_chart('16')"
   ]
  },
  {
   "cell_type": "markdown",
   "metadata": {},
   "source": [
    "Al ver los gráficos, podemos decir que:\n",
    "\n",
    "- No existe mayor diferencia entre el comportamiento de pago de los diferentes grupos."
   ]
  },
  {
   "cell_type": "markdown",
   "metadata": {},
   "source": [
    "### 1.18.- Atributo 18: Número de personas por las cuales es responsable de dar mantenimiento (legalmente) "
   ]
  },
  {
   "cell_type": "code",
   "execution_count": 80,
   "metadata": {},
   "outputs": [
    {
     "data": {
      "image/png": "[encoded data removed]",
      "text/plain": [
       "<Figure size 1080x360 with 1 Axes>"
      ]
     },
     "metadata": {
      "needs_background": "light"
     },
     "output_type": "display_data"
    }
   ],
   "source": [
    "bar_chart('17')"
   ]
  },
  {
   "cell_type": "markdown",
   "metadata": {},
   "source": [
    "Al ver los gráficos, podemos decir que:\n",
    "\n",
    "- No existe mayor diferencia entre el comportamiento de pago de los diferentes grupos."
   ]
  },
  {
   "cell_type": "markdown",
   "metadata": {},
   "source": [
    "### 1.19.- Atributo 19: Si tiene teléfono"
   ]
  },
  {
   "cell_type": "code",
   "execution_count": 81,
   "metadata": {},
   "outputs": [
    {
     "data": {
      "image/png": "[encoded data removed]",
      "text/plain": [
       "<Figure size 1080x360 with 1 Axes>"
      ]
     },
     "metadata": {
      "needs_background": "light"
     },
     "output_type": "display_data"
    }
   ],
   "source": [
    "bar_chart('18')"
   ]
  },
  {
   "cell_type": "markdown",
   "metadata": {},
   "source": [
    "Al ver los gráficos, podemos decir que:\n",
    "\n",
    "- No existe mayor diferencia entre el comportamiento de pago de los diferentes grupos."
   ]
  },
  {
   "cell_type": "markdown",
   "metadata": {},
   "source": [
    "### 1.20.- Atributo 20: Si es un trabajador extranjero"
   ]
  },
  {
   "cell_type": "code",
   "execution_count": 82,
   "metadata": {},
   "outputs": [
    {
     "data": {
      "image/png": "[encoded data removed]",
      "text/plain": [
       "<Figure size 1080x360 with 1 Axes>"
      ]
     },
     "metadata": {
      "needs_background": "light"
     },
     "output_type": "display_data"
    }
   ],
   "source": [
    "bar_chart('19')"
   ]
  },
  {
   "cell_type": "markdown",
   "metadata": {},
   "source": [
    "Al ver los gráficos, podemos decir que:\n",
    "\n",
    "- Los clientes no extranjeros mantienen un excelente comportamiento de pago.\n",
    "- Los clientes extranjeros mantienen un comportamiento estable de pago."
   ]
  },
  {
   "cell_type": "markdown",
   "metadata": {},
   "source": [
    "### 2.- Selección de Características\n",
    "\n",
    "En esta sección se procede a hacer la selección de características para la ejecución del modelo de ML."
   ]
  },
  {
   "cell_type": "code",
   "execution_count": 83,
   "metadata": {},
   "outputs": [],
   "source": [
    "from sklearn.model_selection import train_test_split\n",
    "from sklearn.feature_selection import VarianceThreshold \n",
    "from sklearn.preprocessing import StandardScaler\n",
    "from sklearn.ensemble import RandomForestClassifier\n",
    "from sklearn.tree import DecisionTreeClassifier\n",
    "from sklearn.metrics import roc_auc_score\n",
    "from mlxtend.feature_selection import SequentialFeatureSelector as SFS\n",
    "from sklearn.metrics import confusion_matrix"
   ]
  },
  {
   "cell_type": "markdown",
   "metadata": {},
   "source": [
    "Debido a la cantidad de variables categóricas, se procederá a hacer extender el modelo utilizando one-hot encoding y luego se aplicarán diferentes métodos para el filtrado de características.\n",
    "\n",
    "### 2.1.- One-Hot encoding."
   ]
  },
  {
   "cell_type": "code",
   "execution_count": 84,
   "metadata": {},
   "outputs": [],
   "source": [
    "v_00 = pd.get_dummies(data['0'])\n",
    "v_02 = pd.get_dummies(data['2'])\n",
    "v_03 = pd.get_dummies(data['3'])\n",
    "v_05 = pd.get_dummies(data['5'])\n",
    "v_06 = pd.get_dummies(data['6'])\n",
    "v_08 = pd.get_dummies(data['8']) \n",
    "v_09 = pd.get_dummies(data['9'])\n",
    "v_11 = pd.get_dummies(data['11']) \n",
    "v_13 = pd.get_dummies(data['13']) \n",
    "v_14 = pd.get_dummies(data['14']) \n",
    "v_16 = pd.get_dummies(data['16']) \n",
    "v_18 = pd.get_dummies(data['18']) \n",
    "v_19 = pd.get_dummies(data['19']) "
   ]
  },
  {
   "cell_type": "markdown",
   "metadata": {},
   "source": [
    "### 2.2.- Creamos el nuevo Dataset."
   ]
  },
  {
   "cell_type": "code",
   "execution_count": 85,
   "metadata": {},
   "outputs": [],
   "source": [
    "target = data['20'] - 1\n",
    "drop = ['0','2','3','5','6','8','9','11',\n",
    "        '13','14','16','18','19','20']\n",
    "data.drop(drop, axis=1,inplace=True)\n",
    "\n",
    "data = pd.concat([data,v_00,v_02,v_03,v_05,v_06,v_08,\n",
    "                   v_09,v_11,v_13,v_14,v_16,v_18,v_19,\n",
    "                   target], axis=1)"
   ]
  },
  {
   "cell_type": "code",
   "execution_count": 86,
   "metadata": {},
   "outputs": [
    {
     "data": {
      "text/html": [
       "<div>\n",
       "<style scoped>\n",
       "    .dataframe tbody tr th:only-of-type {\n",
       "        vertical-align: middle;\n",
       "    }\n",
       "\n",
       "    .dataframe tbody tr th {\n",
       "        vertical-align: top;\n",
       "    }\n",
       "\n",
       "    .dataframe thead th {\n",
       "        text-align: right;\n",
       "    }\n",
       "</style>\n",
       "<table border=\"1\" class=\"dataframe\">\n",
       "  <thead>\n",
       "    <tr style=\"text-align: right;\">\n",
       "      <th></th>\n",
       "      <th>1</th>\n",
       "      <th>4</th>\n",
       "      <th>7</th>\n",
       "      <th>10</th>\n",
       "      <th>12</th>\n",
       "      <th>15</th>\n",
       "      <th>17</th>\n",
       "      <th>A11</th>\n",
       "      <th>A12</th>\n",
       "      <th>A13</th>\n",
       "      <th>...</th>\n",
       "      <th>A153</th>\n",
       "      <th>A171</th>\n",
       "      <th>A172</th>\n",
       "      <th>A173</th>\n",
       "      <th>A174</th>\n",
       "      <th>A191</th>\n",
       "      <th>A192</th>\n",
       "      <th>A201</th>\n",
       "      <th>A202</th>\n",
       "      <th>20</th>\n",
       "    </tr>\n",
       "    <tr>\n",
       "      <th>row_id</th>\n",
       "      <th></th>\n",
       "      <th></th>\n",
       "      <th></th>\n",
       "      <th></th>\n",
       "      <th></th>\n",
       "      <th></th>\n",
       "      <th></th>\n",
       "      <th></th>\n",
       "      <th></th>\n",
       "      <th></th>\n",
       "      <th></th>\n",
       "      <th></th>\n",
       "      <th></th>\n",
       "      <th></th>\n",
       "      <th></th>\n",
       "      <th></th>\n",
       "      <th></th>\n",
       "      <th></th>\n",
       "      <th></th>\n",
       "      <th></th>\n",
       "      <th></th>\n",
       "    </tr>\n",
       "  </thead>\n",
       "  <tbody>\n",
       "    <tr>\n",
       "      <th>320</th>\n",
       "      <td>30</td>\n",
       "      <td>4249</td>\n",
       "      <td>4</td>\n",
       "      <td>2</td>\n",
       "      <td>28</td>\n",
       "      <td>2</td>\n",
       "      <td>1</td>\n",
       "      <td>0</td>\n",
       "      <td>1</td>\n",
       "      <td>0</td>\n",
       "      <td>...</td>\n",
       "      <td>0</td>\n",
       "      <td>0</td>\n",
       "      <td>0</td>\n",
       "      <td>0</td>\n",
       "      <td>1</td>\n",
       "      <td>1</td>\n",
       "      <td>0</td>\n",
       "      <td>1</td>\n",
       "      <td>0</td>\n",
       "      <td>1</td>\n",
       "    </tr>\n",
       "    <tr>\n",
       "      <th>211</th>\n",
       "      <td>36</td>\n",
       "      <td>3835</td>\n",
       "      <td>2</td>\n",
       "      <td>4</td>\n",
       "      <td>45</td>\n",
       "      <td>1</td>\n",
       "      <td>1</td>\n",
       "      <td>0</td>\n",
       "      <td>0</td>\n",
       "      <td>0</td>\n",
       "      <td>...</td>\n",
       "      <td>0</td>\n",
       "      <td>0</td>\n",
       "      <td>1</td>\n",
       "      <td>0</td>\n",
       "      <td>0</td>\n",
       "      <td>0</td>\n",
       "      <td>1</td>\n",
       "      <td>1</td>\n",
       "      <td>0</td>\n",
       "      <td>0</td>\n",
       "    </tr>\n",
       "    <tr>\n",
       "      <th>23</th>\n",
       "      <td>12</td>\n",
       "      <td>1804</td>\n",
       "      <td>3</td>\n",
       "      <td>4</td>\n",
       "      <td>44</td>\n",
       "      <td>1</td>\n",
       "      <td>1</td>\n",
       "      <td>0</td>\n",
       "      <td>1</td>\n",
       "      <td>0</td>\n",
       "      <td>...</td>\n",
       "      <td>0</td>\n",
       "      <td>0</td>\n",
       "      <td>0</td>\n",
       "      <td>1</td>\n",
       "      <td>0</td>\n",
       "      <td>1</td>\n",
       "      <td>0</td>\n",
       "      <td>1</td>\n",
       "      <td>0</td>\n",
       "      <td>0</td>\n",
       "    </tr>\n",
       "    <tr>\n",
       "      <th>439</th>\n",
       "      <td>12</td>\n",
       "      <td>609</td>\n",
       "      <td>4</td>\n",
       "      <td>1</td>\n",
       "      <td>26</td>\n",
       "      <td>1</td>\n",
       "      <td>1</td>\n",
       "      <td>0</td>\n",
       "      <td>0</td>\n",
       "      <td>1</td>\n",
       "      <td>...</td>\n",
       "      <td>0</td>\n",
       "      <td>1</td>\n",
       "      <td>0</td>\n",
       "      <td>0</td>\n",
       "      <td>0</td>\n",
       "      <td>1</td>\n",
       "      <td>0</td>\n",
       "      <td>1</td>\n",
       "      <td>0</td>\n",
       "      <td>1</td>\n",
       "    </tr>\n",
       "    <tr>\n",
       "      <th>237</th>\n",
       "      <td>21</td>\n",
       "      <td>2767</td>\n",
       "      <td>4</td>\n",
       "      <td>2</td>\n",
       "      <td>61</td>\n",
       "      <td>2</td>\n",
       "      <td>1</td>\n",
       "      <td>0</td>\n",
       "      <td>1</td>\n",
       "      <td>0</td>\n",
       "      <td>...</td>\n",
       "      <td>0</td>\n",
       "      <td>0</td>\n",
       "      <td>1</td>\n",
       "      <td>0</td>\n",
       "      <td>0</td>\n",
       "      <td>1</td>\n",
       "      <td>0</td>\n",
       "      <td>1</td>\n",
       "      <td>0</td>\n",
       "      <td>1</td>\n",
       "    </tr>\n",
       "  </tbody>\n",
       "</table>\n",
       "<p>5 rows × 62 columns</p>\n",
       "</div>"
      ],
      "text/plain": [
       "         1     4  7  10  12  15  17  A11  A12  A13 ...  A153  A171  A172  \\\n",
       "row_id                                             ...                     \n",
       "320     30  4249  4   2  28   2   1    0    1    0 ...     0     0     0   \n",
       "211     36  3835  2   4  45   1   1    0    0    0 ...     0     0     1   \n",
       "23      12  1804  3   4  44   1   1    0    1    0 ...     0     0     0   \n",
       "439     12   609  4   1  26   1   1    0    0    1 ...     0     1     0   \n",
       "237     21  2767  4   2  61   2   1    0    1    0 ...     0     0     1   \n",
       "\n",
       "        A173  A174  A191  A192  A201  A202  20  \n",
       "row_id                                          \n",
       "320        0     1     1     0     1     0   1  \n",
       "211        0     0     0     1     1     0   0  \n",
       "23         1     0     1     0     1     0   0  \n",
       "439        0     0     1     0     1     0   1  \n",
       "237        0     0     1     0     1     0   1  \n",
       "\n",
       "[5 rows x 62 columns]"
      ]
     },
     "execution_count": 86,
     "metadata": {},
     "output_type": "execute_result"
    }
   ],
   "source": [
    "data.head()"
   ]
  },
  {
   "cell_type": "code",
   "execution_count": 87,
   "metadata": {},
   "outputs": [
    {
     "data": {
      "text/plain": [
       "((630, 61), (270, 61))"
      ]
     },
     "execution_count": 87,
     "metadata": {},
     "output_type": "execute_result"
    }
   ],
   "source": [
    "X_train, X_test, y_train, y_test = train_test_split(data.drop(labels=['20'], axis=1),\n",
    "                                                    data['20'], test_size=0.3, \n",
    "                                                    random_state=0)\n",
    "X_train.shape, X_test.shape"
   ]
  },
  {
   "cell_type": "markdown",
   "metadata": {},
   "source": [
    "### 2.3.- Copiamos los datos originales en un respaldo."
   ]
  },
  {
   "cell_type": "code",
   "execution_count": 88,
   "metadata": {},
   "outputs": [],
   "source": [
    "X_train_original = X_train.copy()\n",
    "X_test_original = X_test.copy()"
   ]
  },
  {
   "cell_type": "markdown",
   "metadata": {},
   "source": [
    "### 2.4.- Removemos las características constantes."
   ]
  },
  {
   "cell_type": "code",
   "execution_count": 89,
   "metadata": {},
   "outputs": [
    {
     "data": {
      "text/plain": [
       "((630, 61), (270, 61))"
      ]
     },
     "execution_count": 89,
     "metadata": {},
     "output_type": "execute_result"
    }
   ],
   "source": [
    "constant_features = [\n",
    "    feat for feat in X_train.columns if X_train[feat].std() == 0\n",
    "]\n",
    "\n",
    "X_train.drop(labels=constant_features, axis=1, inplace=True)\n",
    "X_test.drop(labels=constant_features, axis=1, inplace=True)\n",
    "\n",
    "X_train.shape, X_test.shape\n"
   ]
  },
  {
   "cell_type": "markdown",
   "metadata": {},
   "source": [
    "### 2.5.- Removemos las características casi-constantes."
   ]
  },
  {
   "cell_type": "code",
   "execution_count": 90,
   "metadata": {},
   "outputs": [
    {
     "data": {
      "text/plain": [
       "Index(['1', '4', '7', '10', '12', '15', '17', 'A11', 'A12', 'A13', 'A14',\n",
       "       'A30', 'A31', 'A32', 'A33', 'A34', 'A40', 'A41', 'A410', 'A42', 'A43',\n",
       "       'A44', 'A45', 'A46', 'A49', 'A61', 'A62', 'A63', 'A64', 'A65', 'A71',\n",
       "       'A72', 'A73', 'A74', 'A75', 'A91', 'A92', 'A93', 'A94', 'A101', 'A102',\n",
       "       'A103', 'A121', 'A122', 'A123', 'A124', 'A141', 'A142', 'A143', 'A151',\n",
       "       'A152', 'A153', 'A171', 'A172', 'A173', 'A174', 'A191', 'A192', 'A201',\n",
       "       'A202'],\n",
       "      dtype='object')"
      ]
     },
     "execution_count": 90,
     "metadata": {},
     "output_type": "execute_result"
    }
   ],
   "source": [
    "sel = VarianceThreshold(threshold=0.01) \n",
    "sel.fit(X_train)\n",
    "features_to_keep = X_train.columns[sel.get_support()]\n",
    "features_to_keep"
   ]
  },
  {
   "cell_type": "code",
   "execution_count": 91,
   "metadata": {},
   "outputs": [
    {
     "data": {
      "text/plain": [
       "((630, 60), (270, 60))"
      ]
     },
     "execution_count": 91,
     "metadata": {},
     "output_type": "execute_result"
    }
   ],
   "source": [
    "X_train = sel.transform(X_train)\n",
    "X_test = sel.transform(X_test)\n",
    "X_train.shape, X_test.shape"
   ]
  },
  {
   "cell_type": "code",
   "execution_count": 92,
   "metadata": {},
   "outputs": [
    {
     "data": {
      "text/plain": [
       "((630, 60), (270, 60))"
      ]
     },
     "execution_count": 92,
     "metadata": {},
     "output_type": "execute_result"
    }
   ],
   "source": [
    "X_train = pd.DataFrame(X_train)\n",
    "X_train.columns = features_to_keep\n",
    "X_test = pd.DataFrame(X_test)\n",
    "X_test.columns = features_to_keep\n",
    "X_train.shape, X_test.shape"
   ]
  },
  {
   "cell_type": "markdown",
   "metadata": {},
   "source": [
    "### 2.6.- Removemos las características duplicadas."
   ]
  },
  {
   "cell_type": "code",
   "execution_count": 93,
   "metadata": {},
   "outputs": [
    {
     "data": {
      "text/plain": [
       "((630, 60), (270, 60))"
      ]
     },
     "execution_count": 93,
     "metadata": {},
     "output_type": "execute_result"
    }
   ],
   "source": [
    "duplicated_feat = []\n",
    "for i in range(0, len(X_train.columns)): \n",
    "    col_1 = X_train.columns[i] \n",
    "    for col_2 in X_train.columns[i + 1:]:\n",
    "        if X_train[col_1].equals(X_train[col_2]):\n",
    "            duplicated_feat.append(col_2)\n",
    "X_train.drop(labels=duplicated_feat, axis=1, inplace=True)\n",
    "X_test.drop(labels=duplicated_feat, axis=1, inplace=True)\n",
    "\n",
    "X_train.shape, X_test.shape"
   ]
  },
  {
   "cell_type": "markdown",
   "metadata": {},
   "source": [
    "### 2.7.- Se toma un respaldo de las características duplicadas."
   ]
  },
  {
   "cell_type": "code",
   "execution_count": 94,
   "metadata": {},
   "outputs": [],
   "source": [
    "X_train_basic_filter = X_train.copy()\n",
    "X_test_basic_filter = X_test.copy()"
   ]
  },
  {
   "cell_type": "markdown",
   "metadata": {},
   "source": [
    "### 2.8.- Se remueven las características correlacionadas"
   ]
  },
  {
   "cell_type": "code",
   "execution_count": 95,
   "metadata": {},
   "outputs": [
    {
     "data": {
      "text/plain": [
       "{'A143', 'A192', 'A202'}"
      ]
     },
     "execution_count": 95,
     "metadata": {},
     "output_type": "execute_result"
    }
   ],
   "source": [
    "def correlation(dataset, threshold):\n",
    "    col_corr = set()\n",
    "    corr_matrix = dataset.corr()\n",
    "    for i in range(len(corr_matrix.columns)):\n",
    "        for j in range(i):\n",
    "            if abs(corr_matrix.iloc[i, j]) > threshold:\n",
    "                colname = corr_matrix.columns[i]\n",
    "                col_corr.add(colname)\n",
    "    return col_corr\n",
    " \n",
    "corr_features = correlation(X_train, 0.8)\n",
    "corr_features"
   ]
  },
  {
   "cell_type": "code",
   "execution_count": 96,
   "metadata": {},
   "outputs": [
    {
     "data": {
      "text/plain": [
       "((630, 57), (270, 57))"
      ]
     },
     "execution_count": 96,
     "metadata": {},
     "output_type": "execute_result"
    }
   ],
   "source": [
    "X_train.drop(labels=corr_features, axis=1, inplace=True)\n",
    "X_test.drop(labels=corr_features, axis=1, inplace=True)\n",
    "\n",
    "X_train.shape, X_test.shape"
   ]
  },
  {
   "cell_type": "markdown",
   "metadata": {},
   "source": [
    "### 2.9.- Se toma un respaldo de las características correlacionadas."
   ]
  },
  {
   "cell_type": "code",
   "execution_count": 97,
   "metadata": {},
   "outputs": [],
   "source": [
    "X_train_corr = X_train.copy()\n",
    "X_test_corr = X_test.copy()"
   ]
  },
  {
   "cell_type": "markdown",
   "metadata": {},
   "source": [
    "### 2.10.- Seleccionamos las mejores características utilizando Step Forward Selection"
   ]
  },
  {
   "cell_type": "code",
   "execution_count": 98,
   "metadata": {},
   "outputs": [
    {
     "data": {
      "text/plain": [
       "Index(['1', '15', 'A11', 'A12', 'A14', 'A31', 'A32', 'A34', 'A41', 'A43',\n",
       "       'A46', 'A61', 'A64', 'A65', 'A72', 'A75', 'A91', 'A92', 'A93', 'A102',\n",
       "       'A121', 'A124', 'A174'],\n",
       "      dtype='object')"
      ]
     },
     "execution_count": 98,
     "metadata": {},
     "output_type": "execute_result"
    },
    {
     "data": {
      "image/png": "[encoded data removed]",
      "text/plain": [
       "<Figure size 1440x576 with 1 Axes>"
      ]
     },
     "metadata": {
      "needs_background": "light"
     },
     "output_type": "display_data"
    }
   ],
   "source": [
    "roc_values = []\n",
    "for feature in X_train.columns:\n",
    "    clf = DecisionTreeClassifier()\n",
    "    clf.fit(X_train[feature].fillna(0).to_frame(), y_train)\n",
    "    y_scored = clf.predict_proba(X_test[feature].fillna(0).to_frame())\n",
    "    roc_values.append(roc_auc_score(y_test, y_scored[:, 1]))\n",
    "\n",
    "roc_values = pd.Series(roc_values)\n",
    "roc_values.index = X_train.columns\n",
    "roc_values.sort_values(ascending=False).plot.bar(figsize=(20, 8))\n",
    "filter_value = 0.53\n",
    "# filter_value = 0\n",
    "selected_feat = roc_values[roc_values>filter_value].index\n",
    "selected_feat"
   ]
  },
  {
   "cell_type": "markdown",
   "metadata": {},
   "source": [
    "### 3.- Prueba de Modelos"
   ]
  },
  {
   "cell_type": "code",
   "execution_count": 99,
   "metadata": {},
   "outputs": [],
   "source": [
    "from sklearn.neighbors import KNeighborsClassifier\n",
    "from sklearn.tree import DecisionTreeClassifier\n",
    "from sklearn.ensemble import RandomForestClassifier\n",
    "from sklearn.naive_bayes import GaussianNB\n",
    "from sklearn.svm import SVC"
   ]
  },
  {
   "cell_type": "markdown",
   "metadata": {},
   "source": [
    "### 3.1.- K-Fold Cross Validation"
   ]
  },
  {
   "cell_type": "code",
   "execution_count": 100,
   "metadata": {},
   "outputs": [],
   "source": [
    "from sklearn.model_selection import KFold\n",
    "from sklearn.model_selection import cross_val_score\n",
    "k_fold = KFold(n_splits=7, shuffle=True, random_state=0)\n",
    "\n",
    "models_summary = [] "
   ]
  },
  {
   "cell_type": "markdown",
   "metadata": {},
   "source": [
    "### 3.2.- K-Vecinos más cercanos"
   ]
  },
  {
   "cell_type": "code",
   "execution_count": 101,
   "metadata": {},
   "outputs": [
    {
     "data": {
      "text/plain": [
       "(array([0.76666667, 0.63333333, 0.62222222, 0.73333333, 0.72222222,\n",
       "        0.81111111, 0.71111111]), 71.43)"
      ]
     },
     "execution_count": 101,
     "metadata": {},
     "output_type": "execute_result"
    }
   ],
   "source": [
    "clf = KNeighborsClassifier(n_neighbors = 20)\n",
    "scoring = 'accuracy'\n",
    "score = cross_val_score(clf, X_train[selected_feat], y_train, cv=k_fold, n_jobs=1, scoring=scoring)\n",
    "models_summary.append(['K-NN', np.mean(score), np.var(score)])\n",
    "score, round(np.mean(score)*100, 2)"
   ]
  },
  {
   "cell_type": "markdown",
   "metadata": {},
   "source": [
    "### 3.3.- Árboles de Decisión"
   ]
  },
  {
   "cell_type": "code",
   "execution_count": 102,
   "metadata": {},
   "outputs": [
    {
     "data": {
      "text/plain": [
       "(array([0.68888889, 0.73333333, 0.68888889, 0.71111111, 0.64444444,\n",
       "        0.66666667, 0.58888889]), 67.46)"
      ]
     },
     "execution_count": 102,
     "metadata": {},
     "output_type": "execute_result"
    }
   ],
   "source": [
    "clf = DecisionTreeClassifier()\n",
    "scoring = 'accuracy'\n",
    "score = cross_val_score(clf, X_train[selected_feat], y_train, cv=k_fold, n_jobs=1, scoring=scoring)\n",
    "models_summary.append(['Decision Trees', np.mean(score), np.var(score)])\n",
    "score, round(np.mean(score)*100, 2)"
   ]
  },
  {
   "cell_type": "markdown",
   "metadata": {},
   "source": [
    "### 3.4.- Bosques Aleatorios"
   ]
  },
  {
   "cell_type": "code",
   "execution_count": 103,
   "metadata": {},
   "outputs": [
    {
     "data": {
      "text/plain": [
       "(array([0.72222222, 0.7       , 0.68888889, 0.77777778, 0.68888889,\n",
       "        0.81111111, 0.72222222]), 73.02)"
      ]
     },
     "execution_count": 103,
     "metadata": {},
     "output_type": "execute_result"
    }
   ],
   "source": [
    "clf = RandomForestClassifier(n_estimators=500)\n",
    "scoring = 'accuracy'\n",
    "score = cross_val_score(clf, X_train[selected_feat], y_train, cv=k_fold, n_jobs=1, scoring=scoring)\n",
    "models_summary.append(['Random Forest', np.mean(score), np.var(score)])\n",
    "score, round(np.mean(score)*100, 2)"
   ]
  },
  {
   "cell_type": "markdown",
   "metadata": {},
   "source": [
    "### 3.5.- Naive Bayes"
   ]
  },
  {
   "cell_type": "code",
   "execution_count": 104,
   "metadata": {},
   "outputs": [
    {
     "data": {
      "text/plain": [
       "(array([0.66666667, 0.64444444, 0.64444444, 0.63333333, 0.7       ,\n",
       "        0.77777778, 0.73333333]), 68.57)"
      ]
     },
     "execution_count": 104,
     "metadata": {},
     "output_type": "execute_result"
    }
   ],
   "source": [
    "clf = GaussianNB()\n",
    "scoring = 'accuracy'\n",
    "score = cross_val_score(clf, X_train[selected_feat], y_train, cv=k_fold, n_jobs=1, scoring=scoring)\n",
    "models_summary.append(['Naive Bayes', np.mean(score), np.var(score)])\n",
    "score, round(np.mean(score)*100, 2)"
   ]
  },
  {
   "cell_type": "markdown",
   "metadata": {},
   "source": [
    "### 3.6.- Máquinas Vectoriales de Soporte"
   ]
  },
  {
   "cell_type": "code",
   "execution_count": 105,
   "metadata": {},
   "outputs": [
    {
     "data": {
      "text/plain": [
       "(array([0.73333333, 0.65555556, 0.62222222, 0.75555556, 0.7       ,\n",
       "        0.81111111, 0.71111111]), 71.27)"
      ]
     },
     "execution_count": 105,
     "metadata": {},
     "output_type": "execute_result"
    }
   ],
   "source": [
    "cs = [0.1, 1, 10, 100, 1000]\n",
    "kernel = 'rbf'\n",
    "scoring = 'accuracy'\n",
    "clf = SVC(kernel=kernel)\n",
    "score = cross_val_score(clf, X_train[selected_feat], y_train, cv=k_fold, n_jobs=1, scoring=scoring)\n",
    "models_summary.append(['Support Vector Machines', np.mean(score), np.var(score)])\n",
    "score, round(np.mean(score)*100, 2)"
   ]
  },
  {
   "cell_type": "markdown",
   "metadata": {},
   "source": [
    "### 3.7.- Resumen"
   ]
  },
  {
   "cell_type": "code",
   "execution_count": 106,
   "metadata": {},
   "outputs": [
    {
     "data": {
      "text/html": [
       "<div>\n",
       "<style scoped>\n",
       "    .dataframe tbody tr th:only-of-type {\n",
       "        vertical-align: middle;\n",
       "    }\n",
       "\n",
       "    .dataframe tbody tr th {\n",
       "        vertical-align: top;\n",
       "    }\n",
       "\n",
       "    .dataframe thead th {\n",
       "        text-align: right;\n",
       "    }\n",
       "</style>\n",
       "<table border=\"1\" class=\"dataframe\">\n",
       "  <thead>\n",
       "    <tr style=\"text-align: right;\">\n",
       "      <th></th>\n",
       "      <th>Modelo</th>\n",
       "      <th>Score Medio</th>\n",
       "      <th>Varianza</th>\n",
       "    </tr>\n",
       "  </thead>\n",
       "  <tbody>\n",
       "    <tr>\n",
       "      <th>0</th>\n",
       "      <td>K-NN</td>\n",
       "      <td>0.714286</td>\n",
       "      <td>0.003941</td>\n",
       "    </tr>\n",
       "    <tr>\n",
       "      <th>1</th>\n",
       "      <td>Decision Trees</td>\n",
       "      <td>0.674603</td>\n",
       "      <td>0.001930</td>\n",
       "    </tr>\n",
       "    <tr>\n",
       "      <th>2</th>\n",
       "      <td>Random Forest</td>\n",
       "      <td>0.730159</td>\n",
       "      <td>0.001895</td>\n",
       "    </tr>\n",
       "    <tr>\n",
       "      <th>3</th>\n",
       "      <td>Naive Bayes</td>\n",
       "      <td>0.685714</td>\n",
       "      <td>0.002494</td>\n",
       "    </tr>\n",
       "    <tr>\n",
       "      <th>4</th>\n",
       "      <td>Support Vector Machines</td>\n",
       "      <td>0.712698</td>\n",
       "      <td>0.003366</td>\n",
       "    </tr>\n",
       "  </tbody>\n",
       "</table>\n",
       "</div>"
      ],
      "text/plain": [
       "                    Modelo  Score Medio  Varianza\n",
       "0                     K-NN     0.714286  0.003941\n",
       "1           Decision Trees     0.674603  0.001930\n",
       "2            Random Forest     0.730159  0.001895\n",
       "3              Naive Bayes     0.685714  0.002494\n",
       "4  Support Vector Machines     0.712698  0.003366"
      ]
     },
     "execution_count": 106,
     "metadata": {},
     "output_type": "execute_result"
    }
   ],
   "source": [
    "model_table = pd.DataFrame(models_summary, columns = ['Modelo', 'Score Medio', 'Varianza'])\n",
    "model_table.head(10)"
   ]
  },
  {
   "cell_type": "markdown",
   "metadata": {},
   "source": [
    "Finalmente seleccionamos el modelo __Random Forest__, ya que tiene un buen score medio y una varianza pequeña, lo que lo convierte en un modelo muy estable."
   ]
  },
  {
   "cell_type": "markdown",
   "metadata": {},
   "source": [
    "### 4.- Implementación del Modelo"
   ]
  },
  {
   "cell_type": "code",
   "execution_count": 107,
   "metadata": {},
   "outputs": [
    {
     "name": "stdout",
     "output_type": "stream",
     "text": [
      "Train set\n",
      "Random Forests roc-auc: 0.8414354066985646\n",
      "Test set\n",
      "[[190   2]\n",
      " [ 64  14]]\n",
      "Random Forests roc-auc: 0.7973090277777778\n"
     ]
    }
   ],
   "source": [
    "def run_randomForests(X_train, X_test, y_train, y_test):\n",
    "    rf = RandomForestClassifier(n_estimators=1000, max_depth=4)\n",
    "    rf.fit(X_train, y_train)\n",
    "    print('Train set')\n",
    "    pred = rf.predict_proba(X_train)\n",
    "    print('Random Forests roc-auc: {}'.format(roc_auc_score(y_train, pred[:,1])))\n",
    "    print('Test set')\n",
    "    pred2 = rf.predict_proba(X_test)\n",
    "    pred3 = rf.predict(X_test)\n",
    "    print(confusion_matrix(y_test, pred3))\n",
    "    # print(pred2)\n",
    "    print('Random Forests roc-auc: {}'.format(roc_auc_score(y_test, pred2[:,1])))\n",
    "\n",
    "run_randomForests(X_train[selected_feat], X_test[selected_feat], y_train, y_test)"
   ]
  },
  {
   "cell_type": "code",
   "execution_count": 108,
   "metadata": {},
   "outputs": [
    {
     "data": {
      "text/plain": [
       "array([90228.87473827, 87120.57657528, 88626.08023785, 89582.69912065,\n",
       "       87741.52408646, 90296.70458862, 88913.37657722, 90212.1269989 ,\n",
       "       87845.70894621, 89424.43707974, 89452.64038316, 88467.9326544 ,\n",
       "       88846.9144805 , 88880.06539345, 88129.40534641, 89219.21174601,\n",
       "       90045.62369275, 88617.49145355, 89784.24009465, 87389.44412268,\n",
       "       89191.26416799, 86928.31377549, 89839.90744772, 90624.97740171,\n",
       "       89617.31358092, 89819.24836436, 89266.93853612, 87813.16800852,\n",
       "       90118.80001183, 87241.70276825, 89594.08522111, 87683.09134017,\n",
       "       87186.02925167, 86998.76149006, 88277.98399652, 88665.98595935,\n",
       "       89626.87288019, 87632.19376367, 90173.04710065, 87413.02200929,\n",
       "       87337.51504977, 89305.24361813, 89397.90543052, 87383.3817078 ,\n",
       "       90357.38896165, 90406.23988005, 88661.90486431, 88282.17360662,\n",
       "       86707.04901257, 89712.87744462, 88064.32634618, 87846.1444369 ,\n",
       "       87251.61220401, 90479.39357402, 89661.21744397, 88155.38554368,\n",
       "       90479.39328407, 87799.16876222, 88962.31777181, 87301.55820283,\n",
       "       88642.03662387, 87119.52997011, 87853.16969435, 89030.38049758,\n",
       "       86829.91752047, 88542.27119583, 87212.38459155, 90099.75101082,\n",
       "       90403.44496911, 89145.32588017, 87591.70162797, 89168.69808619,\n",
       "       87999.13989808, 87934.60536039, 89512.84308126, 88563.1970195 ,\n",
       "       87549.92188935, 89825.35832623, 87627.00952262, 90726.51359717,\n",
       "       87702.0509592 , 89281.33812908, 88796.19017637, 88214.57592425,\n",
       "       89044.47344579, 88838.59099982, 87862.49665217, 87863.83265663,\n",
       "       88078.00667554, 89604.45733335, 89291.50829147, 87681.67425991,\n",
       "       90290.99386625, 88089.95961627, 89317.61678038, 87764.22007636,\n",
       "       88932.30716232, 88038.67373977, 89893.81492919, 87711.10676547,\n",
       "       88135.28281559, 88535.15246311, 89049.85579015, 87497.53671015,\n",
       "       87282.01099762, 88333.94918593, 88652.8533838 , 89700.87244204,\n",
       "       88974.62256981, 88312.23108642, 90652.41134737, 89622.7760475 ,\n",
       "       87740.35342008, 87663.19866659, 89877.52851978, 89897.16107124,\n",
       "       87998.37168846, 89092.06580311, 88766.72224615, 88710.48413657,\n",
       "       89776.48915862, 89104.51362627, 89765.44787896, 90564.79529044,\n",
       "       89405.07838325, 88677.33614509, 87092.07530621, 88377.63672638,\n",
       "       88137.72971646, 87863.83265663, 88261.4724497 , 90245.45792288,\n",
       "       87165.7609181 , 87792.72104611, 87691.62530309, 89524.07965742,\n",
       "       88674.01207149, 87131.94529496, 89610.30570397, 87424.48914971,\n",
       "       89539.898015  , 90109.57117109, 88820.87191101, 87362.40084682,\n",
       "       88447.24208584, 86909.58131139, 89968.44715836, 88558.64251865,\n",
       "       89025.24718234, 88658.68752013, 88736.1775304 , 89243.74077306,\n",
       "       88569.42320498, 90340.84432889, 88543.81659949, 90307.62364124,\n",
       "       87539.99707939, 89985.92861177, 87194.05191486, 89269.14336153,\n",
       "       88144.24253808, 87162.90067081, 89794.59262763, 87835.70747363,\n",
       "       87320.66005897, 87411.59383825, 89977.08774689, 87702.29942824,\n",
       "       89938.21648907, 90829.59898992, 87987.68718994, 88881.16695583,\n",
       "       87203.49926314, 88839.60620877, 89711.07576178, 89912.94063661,\n",
       "       88836.47198946, 87359.62118813, 87911.34053312, 87859.15156286,\n",
       "       87410.71687646, 87301.9019004 , 88483.89203389, 87658.40871718,\n",
       "       87361.114914  , 90439.42051307, 89773.73145858, 87762.98041947,\n",
       "       90419.46488119, 87356.02600528, 87607.58773296, 89108.65334562,\n",
       "       89391.09683115, 86952.91154429, 87884.71835381, 89979.20355168,\n",
       "       88669.14962544, 89210.00760536, 89928.16001429, 90239.64211607,\n",
       "       88889.63989854, 88265.69435234, 88112.88945503, 89660.18365784,\n",
       "       87989.64349024, 88572.7825343 , 87599.45175671, 88395.39158101,\n",
       "       87938.13166239, 89514.27514139, 88270.81233709, 87576.89113533,\n",
       "       87313.70736732, 88639.64383797, 87424.99357767, 87328.48909157,\n",
       "       89773.15988157, 88448.80597784, 87462.79557474, 87520.8662742 ,\n",
       "       87554.43884421, 87451.20467865, 88399.03605201, 88770.28367633,\n",
       "       87458.37399578, 89491.52252689, 86817.25792869, 88828.74932241,\n",
       "       89225.6220485 , 88438.22417134, 90412.53153359, 88285.67324904,\n",
       "       90614.98137305, 87739.55209279, 89243.74077306, 88395.34227189,\n",
       "       88808.61772283, 88186.30910763, 87637.10972201, 88693.47445824,\n",
       "       88009.15006677, 89979.19596399, 88974.88998873, 87980.57750163,\n",
       "       87249.08049645, 88300.41817989, 88567.36335001, 88656.84754559,\n",
       "       87948.11479255, 87046.0599532 , 88405.59317308, 88266.64148613,\n",
       "       89785.30575472, 88241.74468749, 87830.70592597, 87758.55903656,\n",
       "       87790.94920522, 89042.66022957, 87381.11347262, 88110.24789226,\n",
       "       88184.32998707, 90180.98153364, 88710.98786759, 89179.86456474,\n",
       "       89215.01527718, 90316.8025059 , 87241.12197226, 87523.02447788,\n",
       "       87974.77542017, 89488.34225018])"
      ]
     },
     "execution_count": 108,
     "metadata": {},
     "output_type": "execute_result"
    }
   ],
   "source": [
    "import requests\n",
    "def get_api_uf():\n",
    "    try:\n",
    "        r = requests.get(url='https://mindicador.cl/api/uf')\n",
    "    except Exception as err:\n",
    "        print('OMG! An error has been ocurred!')\n",
    "        print(err)\n",
    "    else:\n",
    "        return r.json()['serie'][0]['valor']    \n",
    "\n",
    "def calculate_costs(X_train, X_test, y_train):\n",
    "    UF = get_api_uf() \n",
    "    rf = RandomForestClassifier(n_estimators=1000, max_depth=4)\n",
    "    rf.fit(X_train, y_train)\n",
    "    pred = rf.predict_proba(X_test)\n",
    "    p = 0.1*pred[:,1]\n",
    "    base_price = (3*(1+0.03+p))*UF\n",
    "    return base_price\n",
    "\n",
    "b_price = calculate_costs(X_train[selected_feat], X_test[selected_feat], y_train)\n",
    "b_price"
   ]
  },
  {
   "cell_type": "markdown",
   "metadata": {},
   "source": [
    "Finalmente se ocupa el valor de la fórmula con el valor extraído de la UF desde la API https://mindicador.cl/api/uf"
   ]
  },
  {
   "cell_type": "markdown",
   "metadata": {},
   "source": [
    "![](https://wallpapercave.com/wp/3MT8Tfg.jpg)"
   ]
  }
 ],
 "metadata": {
  "kernelspec": {
   "display_name": "Python 3",
   "language": "python",
   "name": "python3"
  },
  "language_info": {
   "codemirror_mode": {
    "name": "ipython",
    "version": 3
   },
   "file_extension": ".py",
   "mimetype": "text/x-python",
   "name": "python",
   "nbconvert_exporter": "python",
   "pygments_lexer": "ipython3",
   "version": "3.7.0"
  }
 },
 "nbformat": 4,
 "nbformat_minor": 2
}
